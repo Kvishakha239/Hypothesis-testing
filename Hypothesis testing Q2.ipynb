{
 "cells": [
  {
   "cell_type": "code",
   "execution_count": 5,
   "id": "3308b53d",
   "metadata": {},
   "outputs": [],
   "source": [
    "import pandas as pd\n",
    "import numpy as np\n",
    "from scipy import stats\n",
    "from scipy.stats import norm"
   ]
  },
  {
   "cell_type": "code",
   "execution_count": 6,
   "id": "b91bd1ce",
   "metadata": {},
   "outputs": [],
   "source": [
    "df = pd.read_csv(\"C:/Users/AKSHATA KHEDEKAR/Downloads/LabTAT.csv\")"
   ]
  },
  {
   "cell_type": "code",
   "execution_count": 7,
   "id": "4cffe766",
   "metadata": {},
   "outputs": [
    {
     "data": {
      "text/html": [
       "<div>\n",
       "<style scoped>\n",
       "    .dataframe tbody tr th:only-of-type {\n",
       "        vertical-align: middle;\n",
       "    }\n",
       "\n",
       "    .dataframe tbody tr th {\n",
       "        vertical-align: top;\n",
       "    }\n",
       "\n",
       "    .dataframe thead th {\n",
       "        text-align: right;\n",
       "    }\n",
       "</style>\n",
       "<table border=\"1\" class=\"dataframe\">\n",
       "  <thead>\n",
       "    <tr style=\"text-align: right;\">\n",
       "      <th></th>\n",
       "      <th>Laboratory 1</th>\n",
       "      <th>Laboratory 2</th>\n",
       "      <th>Laboratory 3</th>\n",
       "      <th>Laboratory 4</th>\n",
       "    </tr>\n",
       "  </thead>\n",
       "  <tbody>\n",
       "    <tr>\n",
       "      <th>0</th>\n",
       "      <td>185.35</td>\n",
       "      <td>165.53</td>\n",
       "      <td>176.70</td>\n",
       "      <td>166.13</td>\n",
       "    </tr>\n",
       "    <tr>\n",
       "      <th>1</th>\n",
       "      <td>170.49</td>\n",
       "      <td>185.91</td>\n",
       "      <td>198.45</td>\n",
       "      <td>160.79</td>\n",
       "    </tr>\n",
       "    <tr>\n",
       "      <th>2</th>\n",
       "      <td>192.77</td>\n",
       "      <td>194.92</td>\n",
       "      <td>201.23</td>\n",
       "      <td>185.18</td>\n",
       "    </tr>\n",
       "    <tr>\n",
       "      <th>3</th>\n",
       "      <td>177.33</td>\n",
       "      <td>183.00</td>\n",
       "      <td>199.61</td>\n",
       "      <td>176.42</td>\n",
       "    </tr>\n",
       "    <tr>\n",
       "      <th>4</th>\n",
       "      <td>193.41</td>\n",
       "      <td>169.57</td>\n",
       "      <td>204.63</td>\n",
       "      <td>152.60</td>\n",
       "    </tr>\n",
       "    <tr>\n",
       "      <th>...</th>\n",
       "      <td>...</td>\n",
       "      <td>...</td>\n",
       "      <td>...</td>\n",
       "      <td>...</td>\n",
       "    </tr>\n",
       "    <tr>\n",
       "      <th>115</th>\n",
       "      <td>178.49</td>\n",
       "      <td>170.66</td>\n",
       "      <td>193.80</td>\n",
       "      <td>172.68</td>\n",
       "    </tr>\n",
       "    <tr>\n",
       "      <th>116</th>\n",
       "      <td>176.08</td>\n",
       "      <td>183.98</td>\n",
       "      <td>215.25</td>\n",
       "      <td>177.64</td>\n",
       "    </tr>\n",
       "    <tr>\n",
       "      <th>117</th>\n",
       "      <td>202.48</td>\n",
       "      <td>174.54</td>\n",
       "      <td>203.99</td>\n",
       "      <td>170.27</td>\n",
       "    </tr>\n",
       "    <tr>\n",
       "      <th>118</th>\n",
       "      <td>182.40</td>\n",
       "      <td>197.18</td>\n",
       "      <td>194.52</td>\n",
       "      <td>150.87</td>\n",
       "    </tr>\n",
       "    <tr>\n",
       "      <th>119</th>\n",
       "      <td>182.09</td>\n",
       "      <td>215.17</td>\n",
       "      <td>221.49</td>\n",
       "      <td>162.21</td>\n",
       "    </tr>\n",
       "  </tbody>\n",
       "</table>\n",
       "<p>120 rows × 4 columns</p>\n",
       "</div>"
      ],
      "text/plain": [
       "     Laboratory 1  Laboratory 2  Laboratory 3  Laboratory 4\n",
       "0          185.35        165.53        176.70        166.13\n",
       "1          170.49        185.91        198.45        160.79\n",
       "2          192.77        194.92        201.23        185.18\n",
       "3          177.33        183.00        199.61        176.42\n",
       "4          193.41        169.57        204.63        152.60\n",
       "..            ...           ...           ...           ...\n",
       "115        178.49        170.66        193.80        172.68\n",
       "116        176.08        183.98        215.25        177.64\n",
       "117        202.48        174.54        203.99        170.27\n",
       "118        182.40        197.18        194.52        150.87\n",
       "119        182.09        215.17        221.49        162.21\n",
       "\n",
       "[120 rows x 4 columns]"
      ]
     },
     "execution_count": 7,
     "metadata": {},
     "output_type": "execute_result"
    }
   ],
   "source": [
    "df"
   ]
  },
  {
   "cell_type": "code",
   "execution_count": 8,
   "id": "1a42460a",
   "metadata": {},
   "outputs": [
    {
     "data": {
      "text/html": [
       "<div>\n",
       "<style scoped>\n",
       "    .dataframe tbody tr th:only-of-type {\n",
       "        vertical-align: middle;\n",
       "    }\n",
       "\n",
       "    .dataframe tbody tr th {\n",
       "        vertical-align: top;\n",
       "    }\n",
       "\n",
       "    .dataframe thead th {\n",
       "        text-align: right;\n",
       "    }\n",
       "</style>\n",
       "<table border=\"1\" class=\"dataframe\">\n",
       "  <thead>\n",
       "    <tr style=\"text-align: right;\">\n",
       "      <th></th>\n",
       "      <th>Laboratory 1</th>\n",
       "      <th>Laboratory 2</th>\n",
       "      <th>Laboratory 3</th>\n",
       "      <th>Laboratory 4</th>\n",
       "    </tr>\n",
       "  </thead>\n",
       "  <tbody>\n",
       "    <tr>\n",
       "      <th>0</th>\n",
       "      <td>185.35</td>\n",
       "      <td>165.53</td>\n",
       "      <td>176.70</td>\n",
       "      <td>166.13</td>\n",
       "    </tr>\n",
       "    <tr>\n",
       "      <th>1</th>\n",
       "      <td>170.49</td>\n",
       "      <td>185.91</td>\n",
       "      <td>198.45</td>\n",
       "      <td>160.79</td>\n",
       "    </tr>\n",
       "    <tr>\n",
       "      <th>2</th>\n",
       "      <td>192.77</td>\n",
       "      <td>194.92</td>\n",
       "      <td>201.23</td>\n",
       "      <td>185.18</td>\n",
       "    </tr>\n",
       "    <tr>\n",
       "      <th>3</th>\n",
       "      <td>177.33</td>\n",
       "      <td>183.00</td>\n",
       "      <td>199.61</td>\n",
       "      <td>176.42</td>\n",
       "    </tr>\n",
       "    <tr>\n",
       "      <th>4</th>\n",
       "      <td>193.41</td>\n",
       "      <td>169.57</td>\n",
       "      <td>204.63</td>\n",
       "      <td>152.60</td>\n",
       "    </tr>\n",
       "  </tbody>\n",
       "</table>\n",
       "</div>"
      ],
      "text/plain": [
       "   Laboratory 1  Laboratory 2  Laboratory 3  Laboratory 4\n",
       "0        185.35        165.53        176.70        166.13\n",
       "1        170.49        185.91        198.45        160.79\n",
       "2        192.77        194.92        201.23        185.18\n",
       "3        177.33        183.00        199.61        176.42\n",
       "4        193.41        169.57        204.63        152.60"
      ]
     },
     "execution_count": 8,
     "metadata": {},
     "output_type": "execute_result"
    }
   ],
   "source": [
    "df.head()"
   ]
  },
  {
   "cell_type": "code",
   "execution_count": 9,
   "id": "0042e669",
   "metadata": {},
   "outputs": [
    {
     "data": {
      "text/html": [
       "<div>\n",
       "<style scoped>\n",
       "    .dataframe tbody tr th:only-of-type {\n",
       "        vertical-align: middle;\n",
       "    }\n",
       "\n",
       "    .dataframe tbody tr th {\n",
       "        vertical-align: top;\n",
       "    }\n",
       "\n",
       "    .dataframe thead th {\n",
       "        text-align: right;\n",
       "    }\n",
       "</style>\n",
       "<table border=\"1\" class=\"dataframe\">\n",
       "  <thead>\n",
       "    <tr style=\"text-align: right;\">\n",
       "      <th></th>\n",
       "      <th>Laboratory 1</th>\n",
       "      <th>Laboratory 2</th>\n",
       "      <th>Laboratory 3</th>\n",
       "      <th>Laboratory 4</th>\n",
       "    </tr>\n",
       "  </thead>\n",
       "  <tbody>\n",
       "    <tr>\n",
       "      <th>count</th>\n",
       "      <td>120.000000</td>\n",
       "      <td>120.000000</td>\n",
       "      <td>120.000000</td>\n",
       "      <td>120.00000</td>\n",
       "    </tr>\n",
       "    <tr>\n",
       "      <th>mean</th>\n",
       "      <td>178.361583</td>\n",
       "      <td>178.902917</td>\n",
       "      <td>199.913250</td>\n",
       "      <td>163.68275</td>\n",
       "    </tr>\n",
       "    <tr>\n",
       "      <th>std</th>\n",
       "      <td>13.173594</td>\n",
       "      <td>14.957114</td>\n",
       "      <td>16.539033</td>\n",
       "      <td>15.08508</td>\n",
       "    </tr>\n",
       "    <tr>\n",
       "      <th>min</th>\n",
       "      <td>138.300000</td>\n",
       "      <td>140.550000</td>\n",
       "      <td>159.690000</td>\n",
       "      <td>124.06000</td>\n",
       "    </tr>\n",
       "    <tr>\n",
       "      <th>25%</th>\n",
       "      <td>170.335000</td>\n",
       "      <td>168.025000</td>\n",
       "      <td>188.232500</td>\n",
       "      <td>154.05000</td>\n",
       "    </tr>\n",
       "    <tr>\n",
       "      <th>50%</th>\n",
       "      <td>178.530000</td>\n",
       "      <td>178.870000</td>\n",
       "      <td>199.805000</td>\n",
       "      <td>164.42500</td>\n",
       "    </tr>\n",
       "    <tr>\n",
       "      <th>75%</th>\n",
       "      <td>186.535000</td>\n",
       "      <td>189.112500</td>\n",
       "      <td>211.332500</td>\n",
       "      <td>172.88250</td>\n",
       "    </tr>\n",
       "    <tr>\n",
       "      <th>max</th>\n",
       "      <td>216.390000</td>\n",
       "      <td>217.860000</td>\n",
       "      <td>238.700000</td>\n",
       "      <td>205.18000</td>\n",
       "    </tr>\n",
       "  </tbody>\n",
       "</table>\n",
       "</div>"
      ],
      "text/plain": [
       "       Laboratory 1  Laboratory 2  Laboratory 3  Laboratory 4\n",
       "count    120.000000    120.000000    120.000000     120.00000\n",
       "mean     178.361583    178.902917    199.913250     163.68275\n",
       "std       13.173594     14.957114     16.539033      15.08508\n",
       "min      138.300000    140.550000    159.690000     124.06000\n",
       "25%      170.335000    168.025000    188.232500     154.05000\n",
       "50%      178.530000    178.870000    199.805000     164.42500\n",
       "75%      186.535000    189.112500    211.332500     172.88250\n",
       "max      216.390000    217.860000    238.700000     205.18000"
      ]
     },
     "execution_count": 9,
     "metadata": {},
     "output_type": "execute_result"
    }
   ],
   "source": [
    "df.describe()"
   ]
  },
  {
   "cell_type": "code",
   "execution_count": 10,
   "id": "6a936582",
   "metadata": {},
   "outputs": [],
   "source": [
    "Laboratory_1=df['Laboratory 1'].mean()"
   ]
  },
  {
   "cell_type": "code",
   "execution_count": 11,
   "id": "91202547",
   "metadata": {},
   "outputs": [
    {
     "data": {
      "text/plain": [
       "178.36158333333339"
      ]
     },
     "execution_count": 11,
     "metadata": {},
     "output_type": "execute_result"
    }
   ],
   "source": [
    "Laboratory_1"
   ]
  },
  {
   "cell_type": "code",
   "execution_count": 12,
   "id": "72884ed2",
   "metadata": {},
   "outputs": [],
   "source": [
    "Laboratory_2=df['Laboratory 2'].mean()\n",
    "Laboratory_3=df['Laboratory 3'].mean()\n",
    "Laboratory_4=df['Laboratory 4'].mean()"
   ]
  },
  {
   "cell_type": "code",
   "execution_count": 13,
   "id": "e54ca7ac",
   "metadata": {},
   "outputs": [
    {
     "name": "stdout",
     "output_type": "stream",
     "text": [
      "Laboratory 2 Mean =  178.9029166666668\n",
      "Laboratory 3 Mean =  199.91325000000003\n",
      "Laboratory 4 Mean =  163.6827499999999\n"
     ]
    }
   ],
   "source": [
    "print('Laboratory 2 Mean = ',Laboratory_2)\n",
    "print('Laboratory 3 Mean = ',Laboratory_3)\n",
    "print('Laboratory 4 Mean = ',Laboratory_4)"
   ]
  },
  {
   "cell_type": "code",
   "execution_count": 15,
   "id": "6c66c849",
   "metadata": {},
   "outputs": [],
   "source": [
    "#The Null and Alternative Hypothesis\n",
    "\n",
    "#Null Hypo : There is no significant difference between the  mean Lab values. \n",
    "#H0:μ1=μ2=μ3=μ4=μ5\n",
    "\n",
    "#Alternative Hypo :\n",
    "#There is a significant difference between the  mean Lab values. \n",
    "#Ha:μ1≠μ2≠μ3≠μ4"
   ]
  },
  {
   "cell_type": "code",
   "execution_count": 16,
   "id": "eb621bdd",
   "metadata": {},
   "outputs": [],
   "source": [
    "alpha=0.05\n",
    "Lab1=pd.DataFrame(df['Laboratory 1'])\n",
    "Lab2=pd.DataFrame(df['Laboratory 2'])\n",
    "Lab3=pd.DataFrame(df['Laboratory 3'])\n",
    "Lab4=pd.DataFrame(df['Laboratory 4'])"
   ]
  },
  {
   "cell_type": "code",
   "execution_count": 17,
   "id": "0b705bc3",
   "metadata": {},
   "outputs": [
    {
     "data": {
      "text/plain": [
       "(     Laboratory 1\n",
       " 0          185.35\n",
       " 1          170.49\n",
       " 2          192.77\n",
       " 3          177.33\n",
       " 4          193.41\n",
       " ..            ...\n",
       " 115        178.49\n",
       " 116        176.08\n",
       " 117        202.48\n",
       " 118        182.40\n",
       " 119        182.09\n",
       " \n",
       " [120 rows x 1 columns],\n",
       "      Laboratory 1\n",
       " 0          185.35\n",
       " 1          170.49\n",
       " 2          192.77\n",
       " 3          177.33\n",
       " 4          193.41\n",
       " ..            ...\n",
       " 115        178.49\n",
       " 116        176.08\n",
       " 117        202.48\n",
       " 118        182.40\n",
       " 119        182.09\n",
       " \n",
       " [120 rows x 1 columns],\n",
       "      Laboratory 3\n",
       " 0          176.70\n",
       " 1          198.45\n",
       " 2          201.23\n",
       " 3          199.61\n",
       " 4          204.63\n",
       " ..            ...\n",
       " 115        193.80\n",
       " 116        215.25\n",
       " 117        203.99\n",
       " 118        194.52\n",
       " 119        221.49\n",
       " \n",
       " [120 rows x 1 columns],\n",
       "      Laboratory 4\n",
       " 0          166.13\n",
       " 1          160.79\n",
       " 2          185.18\n",
       " 3          176.42\n",
       " 4          152.60\n",
       " ..            ...\n",
       " 115        172.68\n",
       " 116        177.64\n",
       " 117        170.27\n",
       " 118        150.87\n",
       " 119        162.21\n",
       " \n",
       " [120 rows x 1 columns])"
      ]
     },
     "execution_count": 17,
     "metadata": {},
     "output_type": "execute_result"
    }
   ],
   "source": [
    "Lab1,Lab1,Lab3,Lab4"
   ]
  },
  {
   "cell_type": "code",
   "execution_count": 45,
   "id": "7a5ea58e",
   "metadata": {},
   "outputs": [],
   "source": [
    "import scipy.stats as stats\n",
    "import scipy"
   ]
  },
  {
   "cell_type": "code",
   "execution_count": 46,
   "id": "efad769d",
   "metadata": {},
   "outputs": [
    {
     "name": "stdout",
     "output_type": "stream",
     "text": [
      "P-Value:[2.11567089e-57] T-Statistic:[118.70421654]\n"
     ]
    }
   ],
   "source": [
    "tStat, pvalue = scipy.stats.f_oneway(Lab1,Lab2,Lab3,Lab4)\n",
    "print(\"P-Value:{0} T-Statistic:{1}\".format(pvalue,tStat))"
   ]
  },
  {
   "cell_type": "code",
   "execution_count": null,
   "id": "03da42ce",
   "metadata": {},
   "outputs": [],
   "source": [
    "#as p value is < 0.05\n",
    "#we reject null hypothesis"
   ]
  },
  {
   "cell_type": "code",
   "execution_count": null,
   "id": "79178ec2",
   "metadata": {},
   "outputs": [],
   "source": [
    "#Avg TAT are not Equal."
   ]
  },
  {
   "cell_type": "code",
   "execution_count": null,
   "id": "2dcd2ffc",
   "metadata": {},
   "outputs": [],
   "source": [
    "#Conclusion : There is Difference in the average Turn Around Time (TAT) of reports"
   ]
  }
 ],
 "metadata": {
  "kernelspec": {
   "display_name": "Python 3",
   "language": "python",
   "name": "python3"
  },
  "language_info": {
   "codemirror_mode": {
    "name": "ipython",
    "version": 3
   },
   "file_extension": ".py",
   "mimetype": "text/x-python",
   "name": "python",
   "nbconvert_exporter": "python",
   "pygments_lexer": "ipython3",
   "version": "3.8.8"
  }
 },
 "nbformat": 4,
 "nbformat_minor": 5
}
